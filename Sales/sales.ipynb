{
 "cells": [
  {
   "cell_type": "code",
   "execution_count": 133,
   "metadata": {
    "_cell_guid": "b1076dfc-b9ad-4769-8c92-a6c4dae69d19",
    "_uuid": "8f2839f25d086af736a60e9eeb907d3b93b6e0e5",
    "collapsed": true
   },
   "outputs": [],
   "source": [
    "import numpy as np # linear algebra\n",
    "import pandas as pd # data processing, CSV file I/O (e.g. pd.read_csv)\n",
    "import matplotlib.pyplot as plt\n",
    "import seaborn as sns\n",
    "from datetime import datetime\n",
    "from sklearn.metrics import mean_squared_error\n",
    "\n",
    "%matplotlib inline\n",
    "# plt.style.use('seaborn-dark')\n",
    "\n",
    "import warnings\n",
    "warnings.filterwarnings('ignore')"
   ]
  },
  {
   "cell_type": "markdown",
   "metadata": {
    "_cell_guid": "79c7e3d0-c299-4dcb-8224-4455121ee9b0",
    "_uuid": "d629ff2d2480ee46fbb7e2d37f6b5fab8052498a",
    "collapsed": true
   },
   "source": [
    "#### Loading data and EDA"
   ]
  },
  {
   "cell_type": "code",
   "execution_count": 134,
   "metadata": {
    "_uuid": "4fe9df182b1124a0a3e79d0d579d278d627966db",
    "collapsed": true
   },
   "outputs": [],
   "source": [
    "train = pd.read_csv('../input/sales_train.csv')\n",
    "test = pd.read_csv('../input/test.csv')\n",
    "items = pd.read_csv('../input/items.csv')\n",
    "item_cats = pd.read_csv('../input/item_categories.csv')\n",
    "shops = pd.read_csv('../input/shops.csv')"
   ]
  },
  {
   "cell_type": "code",
   "execution_count": 103,
   "metadata": {
    "_uuid": "5fff4a23c38a44e30c6fff973f00de94d4564e74"
   },
   "outputs": [],
   "source": [
    "train.info()"
   ]
  },
  {
   "cell_type": "code",
   "execution_count": 104,
   "metadata": {
    "_uuid": "94522eb58d4fd1de9469801ba14fc23624d63105"
   },
   "outputs": [],
   "source": [
    "test.info()"
   ]
  },
  {
   "cell_type": "code",
   "execution_count": 6,
   "metadata": {
    "_uuid": "f3f3d4e4e281cb24d6d6d2c9a89d86319d929239"
   },
   "outputs": [],
   "source": [
    "test.head()"
   ]
  },
  {
   "cell_type": "code",
   "execution_count": 21,
   "metadata": {
    "_uuid": "f4fec78d9b605f63e7d6510ef6c20f00d9625898"
   },
   "outputs": [],
   "source": [
    "print('nulls in training data:')\n",
    "for col in train.columns:\n",
    "    print(col+':', train[col].isnull().any())\n",
    "    \n",
    "print('\\nnulls in test data:')\n",
    "for col in test.columns:\n",
    "    print(col+':', test[col].isnull().any())"
   ]
  },
  {
   "cell_type": "code",
   "execution_count": 17,
   "metadata": {
    "_uuid": "be3895871a3a4d847b9b708da19e501f94d4d548",
    "scrolled": true
   },
   "outputs": [],
   "source": [
    "grouped = pd.DataFrame(train.groupby(['shop_id', 'date_block_num'])['item_cnt_day'].sum().reset_index())\n",
    "grouped.rename(columns={'item_cnt_day': 'item_cnt_month'}, inplace=True)\n",
    "fig, axes = plt.subplots(nrows=5, ncols=2, sharex=True, sharey=True, figsize=(16,20))\n",
    "num_graph = 10\n",
    "id_per_graph = np.ceil(grouped.shop_id.max() / num_graph)\n",
    "count = 0\n",
    "for i in range(5):\n",
    "    for j in range(2):\n",
    "        sns.pointplot(x='date_block_num', y='item_cnt_month', hue='shop_id', data=grouped[np.logical_and(count*id_per_graph <= grouped['shop_id'], grouped['shop_id'] < (count+1)*id_per_graph)], ax=axes[i][j])\n",
    "        count += 1"
   ]
  },
  {
   "cell_type": "markdown",
   "metadata": {
    "_uuid": "39a5b36f8d70a99e42721a31674d7afb947e32f4"
   },
   "source": [
    "add categories to features and add date features"
   ]
  },
  {
   "cell_type": "code",
   "execution_count": 135,
   "metadata": {
    "_uuid": "e66a26fb1ea20b52d6305d42c1eb6eed1f1f7e07"
   },
   "outputs": [],
   "source": [
    "print(train.columns)\n",
    "# add categories training features\n",
    "train = train.merge(items, on='item_id', how='left').reset_index().drop(['item_name', 'index'], axis=1)\n",
    "test = test.merge(items, on='item_id', how='left').reset_index().drop(['item_name', 'index'], axis=1)\n",
    "# convert date\n",
    "train['month'] = np.int16(train.date.apply(lambda x: datetime.strptime(x, '%d.%m.%Y').strftime('%m')))\n",
    "train['year'] = np.int16(train.date.apply(lambda x: datetime.strptime(x, '%d.%m.%Y').strftime('%Y')))\n",
    "train.drop('date', axis=1, inplace=True)\n",
    "print(train.columns)"
   ]
  },
  {
   "cell_type": "code",
   "execution_count": 10,
   "metadata": {
    "_kg_hide-output": false,
    "_uuid": "86ccfb2e223689ff293b4169d8f76a5cc53fd5cc",
    "scrolled": true
   },
   "outputs": [],
   "source": [
    "fig, axes = plt.subplots(nrows=5, ncols=2, sharex=True, sharey=True, figsize=(16,20))\n",
    "num_graph = 10\n",
    "id_per_graph = np.ceil(train.item_category_id.max() / num_graph)\n",
    "count = 0\n",
    "for i in range(5):\n",
    "    for j in range(2):\n",
    "        sns.pointplot(x='month', y='item_cnt_day', hue='item_category_id', \n",
    "                      data=train[np.logical_and(count*id_per_graph <= train['item_category_id'], train['item_category_id'] < (count+1)*id_per_graph)], \n",
    "                      ax=axes[i][j])\n",
    "        count += 1"
   ]
  },
  {
   "cell_type": "code",
   "execution_count": 12,
   "metadata": {
    "_uuid": "bd2b2459b110099d8fddea1c7911c9c31bdcf63f"
   },
   "outputs": [],
   "source": [
    "Y = train.groupby(['date_block_num'])['shop_id'].count().values\n",
    "X = np.arange(len(Y))\n",
    "\n",
    "plt.bar(X, Y, color='c')\n",
    "plt.xlabel('date blocks')\n",
    "plt.ylabel('frequency of data')"
   ]
  },
  {
   "cell_type": "code",
   "execution_count": 136,
   "metadata": {
    "_uuid": "e36db43cf3dc7702c77f7dbf3f423536d8401dff"
   },
   "outputs": [],
   "source": [
    "# group by month\n",
    "train = train.drop(['item_price'], axis=1)\n",
    "# temp = train.copy()\n",
    "print([c for c in train.columns if c not in ['item_cnt_day']])\n",
    "train = train.groupby([c for c in train.columns if c not in ['item_cnt_day']], as_index=False)[['item_cnt_day']].sum()\n",
    "train.rename(columns={'item_cnt_day': 'item_cnt_month'}, inplace=True)\n",
    "train.info()"
   ]
  },
  {
   "cell_type": "markdown",
   "metadata": {
    "_uuid": "23db79ad64e5e43766440fabc09960d6afc79563"
   },
   "source": [
    "generate mean encodings of the data"
   ]
  },
  {
   "cell_type": "markdown",
   "metadata": {
    "_uuid": "45b517bc6216b9d7fc271010381ec4a152f904c6",
    "scrolled": true
   },
   "source": [
    "#### modify feature columns"
   ]
  },
  {
   "cell_type": "code",
   "execution_count": 76,
   "metadata": {
    "_uuid": "cf2e2787277bcf96ebb8255edd369fc9e43c12f7",
    "collapsed": true
   },
   "outputs": [],
   "source": [
    "from sklearn.preprocessing import StandardScaler\n",
    "\n",
    "def modify_features(data): # reduced rmse score\n",
    "    # params: data - dataframe, return: modified dataframe\n",
    "    scaler = StandardScaler()\n",
    "    \n",
    "    data['year'] = data['year'] - 2013\n",
    "    \n",
    "    for col in data.columns:\n",
    "        data[col] = scaler.fit_transform(data[col].values.reshape(-1,1))\n",
    "    \n",
    "    return data"
   ]
  },
  {
   "cell_type": "code",
   "execution_count": 137,
   "metadata": {
    "_uuid": "ffde7001d1bf7dd8b34bcf205eb507ac838c24d3",
    "collapsed": true
   },
   "outputs": [],
   "source": [
    "train = train[train.year != 2013] # drop 2013 from training\n",
    "train.drop('date_block_num', axis=1, inplace=True)\n",
    "# train = modify_features(train)"
   ]
  },
  {
   "cell_type": "markdown",
   "metadata": {
    "_uuid": "caaaff7a5b4649abc1ee010b7fdb08b87738e300"
   },
   "source": [
    "split training and testing data"
   ]
  },
  {
   "cell_type": "code",
   "execution_count": 139,
   "metadata": {
    "_uuid": "f2d35b4e26497c9c8d0f54e8e77c2a257c892be0"
   },
   "outputs": [],
   "source": [
    "from sklearn.model_selection import train_test_split\n",
    "\n",
    "cols = list(train.columns)\n",
    "cols.remove('item_cnt_month')\n",
    "\n",
    "X, Y = train[cols].values, train['item_cnt_month'].values.clip(0, 20)\n",
    "# Y = Y.clip(0, 20)\n",
    "\n",
    "X_train, X_test, Y_train, Y_test = train_test_split(X, Y, test_size=0.25, shuffle=True)\n",
    "X_train.shape, X_test.shape, Y_train.shape, Y_test.shape"
   ]
  },
  {
   "cell_type": "markdown",
   "metadata": {
    "_uuid": "0bb86fddcfb37b2ec7afab18303977b939090d93"
   },
   "source": [
    "#### experiment with models"
   ]
  },
  {
   "cell_type": "code",
   "execution_count": 140,
   "metadata": {
    "_uuid": "0d2201bd53fc5157577d7d0fb2733f99b18798ce"
   },
   "outputs": [],
   "source": [
    "from xgboost import XGBRegressor\n",
    "\n",
    "xgb_reg = XGBRegressor(max_depth=12, n_jobs=-1, learning_rate=0.05, n_estimators=170)\n",
    "xgb_reg.fit(X_train, Y_train)"
   ]
  },
  {
   "cell_type": "code",
   "execution_count": 165,
   "metadata": {
    "_uuid": "f2fea8b0685582964f13a0f02d10876942e68f4f"
   },
   "outputs": [],
   "source": [
    "print('Training RMSE ', np.sqrt(mean_squared_error(xgb_reg.predict(X_train[:10000]).clip(0, 20), Y_train[:10000])))\n",
    "print('Validation RMSE', np.sqrt(mean_squared_error(xgb_reg.predict(X_test).clip(0, 20), Y_test)))"
   ]
  },
  {
   "cell_type": "code",
   "execution_count": 162,
   "metadata": {
    "_uuid": "7e8f79372c3c894de09f00f0698f4928c958598a",
    "scrolled": true
   },
   "outputs": [],
   "source": [
    "import lightgbm as lgb\n",
    "\n",
    "lgb_train = lgb.Dataset(X_train, Y_train)\n",
    "lgb_eval = lgb.Dataset(X_test, Y_test)\n",
    "lgb_params = {\n",
    "    'feature_fraction': 0.75,\n",
    "    'metric': 'rmse',\n",
    "    'nthread':1,\n",
    "    'min_data_in_leaf': 2**7,\n",
    "    'bagging_fraction': 0.75,\n",
    "    'objective': 'mse',\n",
    "    'bagging_seed': 2**7,\n",
    "    'num_leaves': 2**7,\n",
    "    'bagging_freq':1,\n",
    "    'verbose':0\n",
    "}\n",
    "\n",
    "lgb_reg = lgb.train(lgb_params, lgb_train, num_boost_round=1000, valid_sets=lgb_eval, early_stopping_rounds=5)"
   ]
  },
  {
   "cell_type": "code",
   "execution_count": 163,
   "metadata": {
    "_uuid": "a88f5f3fcd6183fe7f40460010839855c45d9e52",
    "collapsed": true
   },
   "outputs": [],
   "source": [
    "def predict(X):\n",
    "    regs = [xgb_reg, lgb_reg]\n",
    "    n = len(regs)\n",
    "    \n",
    "    preds = np.zeros((X.shape[0]), dtype=np.float64)\n",
    "    for reg in regs:\n",
    "        preds += reg.predict(X)\n",
    "        \n",
    "    return preds / n"
   ]
  },
  {
   "cell_type": "code",
   "execution_count": 164,
   "metadata": {
    "_uuid": "a46b120eab0453ae5e17092ca7225bc49c004890"
   },
   "outputs": [],
   "source": [
    "print('Training RMSE ', np.sqrt(mean_squared_error(predict(X_train[:10000]).clip(0, 20), Y_train[:10000])))\n",
    "print('Validation RMSE', np.sqrt(mean_squared_error(predict(X_test).clip(0, 20), Y_test)))"
   ]
  },
  {
   "cell_type": "markdown",
   "metadata": {
    "_uuid": "4e48c6d2bb3be7a07c963a987d93ee781312df71"
   },
   "source": [
    "#### prepare test set for submission"
   ]
  },
  {
   "cell_type": "code",
   "execution_count": 166,
   "metadata": {
    "_uuid": "fd57682d95f89784a068c8b6b3342b27b98d595a"
   },
   "outputs": [],
   "source": [
    "test['month'] = 11\n",
    "test['year'] = 2015\n",
    "# test['date_block_num'] = 34\n",
    "# test = modify_features(test)\n",
    "\n",
    "test.info()"
   ]
  },
  {
   "cell_type": "code",
   "execution_count": 167,
   "metadata": {
    "_uuid": "5a2d77ddfd0b3009ce68147c591dd49775521248",
    "collapsed": true
   },
   "outputs": [],
   "source": [
    "X = test.drop(['ID'], axis=1).values"
   ]
  },
  {
   "cell_type": "code",
   "execution_count": 170,
   "metadata": {
    "_uuid": "af86bcae350c52de14a40e570829bac1be6d711f"
   },
   "outputs": [],
   "source": [
    "test['item_cnt_month'] = predict(X).clip(0, 20)\n",
    "test['item_cnt_month'].describe()"
   ]
  },
  {
   "cell_type": "code",
   "execution_count": 171,
   "metadata": {
    "_uuid": "c239ed68cd9ca9e974b86b0a4b5a3d2f194d99c8",
    "scrolled": true
   },
   "outputs": [],
   "source": [
    "test[['ID', 'item_cnt_month']].to_csv('submission.csv', index=False)\n",
    "test.head()"
   ]
  }
 ],
 "metadata": {
  "kernelspec": {
   "display_name": "Python 2",
   "language": "python",
   "name": "python2"
  },
  "language_info": {
   "codemirror_mode": {
    "name": "ipython",
    "version": 2
   },
   "file_extension": ".py",
   "mimetype": "text/x-python",
   "name": "python",
   "nbconvert_exporter": "python",
   "pygments_lexer": "ipython2",
   "version": "2.7.15rc1"
  }
 },
 "nbformat": 4,
 "nbformat_minor": 1
}
